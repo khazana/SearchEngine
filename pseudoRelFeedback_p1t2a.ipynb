{
 "cells": [
  {
   "cell_type": "code",
   "execution_count": 183,
   "metadata": {},
   "outputs": [],
   "source": [
    "import pickle\n",
    "from collections import defaultdict\n",
    "from nltk.corpus.reader.plaintext import PlaintextCorpusReader\n",
    "import os\n",
    "import numpy as np\n",
    "import operator\n",
    "import pandas as pd\n",
    "from collections import defaultdict, Counter\n",
    "from operator import itemgetter\n",
    "import nltk"
   ]
  },
  {
   "cell_type": "code",
   "execution_count": 133,
   "metadata": {},
   "outputs": [],
   "source": [
    "corpusdir = \"/home/dhaval/Acads/Spring19/Information Retrieval/Project/Parsed_Files/\""
   ]
  },
  {
   "cell_type": "code",
   "execution_count": 134,
   "metadata": {},
   "outputs": [],
   "source": [
    "newcorpus = PlaintextCorpusReader(corpusdir, '.*')"
   ]
  },
  {
   "cell_type": "code",
   "execution_count": 185,
   "metadata": {},
   "outputs": [],
   "source": [
    "def get_Tokens(filename):\n",
    "    file_content = open(corpusdir + filename).read()\n",
    "    tokens = nltk.word_tokenize(file_content)\n",
    "    return tokens"
   ]
  },
  {
   "cell_type": "code",
   "execution_count": 128,
   "metadata": {},
   "outputs": [],
   "source": [
    "with open('unigrams.pickle','rb') as f:\n",
    "    unigrams = pickle.load(f)"
   ]
  },
  {
   "cell_type": "code",
   "execution_count": 129,
   "metadata": {},
   "outputs": [],
   "source": [
    "with open('parsed_queries.pickle','rb') as f:\n",
    "    queries = pickle.load(f)"
   ]
  },
  {
   "cell_type": "code",
   "execution_count": 130,
   "metadata": {},
   "outputs": [],
   "source": [
    "with open('relevance.pickle','rb') as f:\n",
    "    rel = pickle.load(f)"
   ]
  },
  {
   "cell_type": "code",
   "execution_count": 187,
   "metadata": {},
   "outputs": [],
   "source": [
    "with open('common_words') as f:\n",
    "    content = f.read()\n",
    "    stop_list = nltk.word_tokenize(content)"
   ]
  },
  {
   "cell_type": "code",
   "execution_count": 131,
   "metadata": {},
   "outputs": [],
   "source": [
    "relevance = {}"
   ]
  },
  {
   "cell_type": "code",
   "execution_count": 132,
   "metadata": {},
   "outputs": [],
   "source": [
    "for key,value in rel.items():\n",
    "    val = []\n",
    "    for v in value:\n",
    "        val.append(v+\".txt\")\n",
    "    relevance[int(key)] = val"
   ]
  },
  {
   "cell_type": "code",
   "execution_count": 135,
   "metadata": {},
   "outputs": [],
   "source": [
    "tot_length = 0"
   ]
  },
  {
   "cell_type": "code",
   "execution_count": 136,
   "metadata": {},
   "outputs": [],
   "source": [
    "for filename in newcorpus.fileids():\n",
    "    count = len(open(corpusdir+filename).readlines(  ))\n",
    "    tot_length+=count"
   ]
  },
  {
   "cell_type": "code",
   "execution_count": 142,
   "metadata": {},
   "outputs": [],
   "source": [
    "avdl = tot_length/1000\n",
    "k1=1.2\n",
    "b=0.75\n",
    "k2=100\n",
    "N = 3205"
   ]
  },
  {
   "cell_type": "code",
   "execution_count": 138,
   "metadata": {},
   "outputs": [],
   "source": [
    "def getr(term,qid):\n",
    "    list_of_docs = list(map(itemgetter(0), unigrams[term]))\n",
    "    relevant_docs = relevance[qid]\n",
    "    r = list(set(list_of_docs).intersection(set(relevant_docs)))\n",
    "    return len(r)"
   ]
  },
  {
   "cell_type": "code",
   "execution_count": 173,
   "metadata": {},
   "outputs": [],
   "source": [
    "def getRanking(qid,query,t):\n",
    "    try:\n",
    "        R = len(relevance[qid])\n",
    "    except:\n",
    "        R = 0\n",
    "    terms = query.split()\n",
    "    query_id = qid\n",
    "    frequency = defaultdict(int)\n",
    "    for word in terms:\n",
    "        frequency[word]+=1\n",
    "    Score = defaultdict(float)\n",
    "    for term in frequency.keys():\n",
    "        l = unigrams[term]\n",
    "        qf = frequency[term]\n",
    "        if(R!=0):\n",
    "            r = getr(term,qid)\n",
    "        else:\n",
    "            r = 0\n",
    "        n = len(l)\n",
    "        for doc in l:\n",
    "            dl = len(open(corpusdir+doc[0]).readlines())\n",
    "            K = k1*((1-b)+b*dl/avdl)\n",
    "            f = doc[1]\n",
    "            d = (r+0.5)*(N-n-R+r+0.5)/((R-r+0.5)*(n-r+0.5))\n",
    "            BM25 = np.log(d)*(k1+1)*f*(k2+1)*qf/((K+f)*(k2+qf))\n",
    "            Score[doc[0]]+=BM25\n",
    "    sorted_Score = sorted(Score.items(), key=operator.itemgetter(1), reverse = True)\n",
    "    column_names = ['doc_id','BM25_score']\n",
    "    df = pd.DataFrame(sorted_Score[0:t],columns = column_names)\n",
    "    df.insert(1, \"rank\", np.arange(len(df))+1, True)\n",
    "    df['system_name'] = \"BM25\"\n",
    "    df.insert(0, \"Q0\", \"Q0\", True)\n",
    "    df.insert(0, \"query_id\", query_id, True)\n",
    "    return df\n",
    "    #df.to_csv(\"query_\"+str(query_id)+\"_rankings_.csv\",index=False)"
   ]
  },
  {
   "cell_type": "code",
   "execution_count": 175,
   "metadata": {},
   "outputs": [],
   "source": [
    "top_docs = {}\n",
    "for key,value in queries.items():\n",
    "    df = list(getRanking(key,value,10)['doc_id'])\n",
    "    top_docs[key] = df"
   ]
  },
  {
   "cell_type": "code",
   "execution_count": 204,
   "metadata": {},
   "outputs": [],
   "source": [
    "def removeStopWords(l):\n",
    "    k = []\n",
    "    for word in l:\n",
    "        if word not in stop_list and not(word.isnumeric()):\n",
    "            k.append(word)\n",
    "    return k"
   ]
  },
  {
   "cell_type": "code",
   "execution_count": 218,
   "metadata": {},
   "outputs": [],
   "source": [
    "def top_words(most_occur,words_in_query,k):\n",
    "    i = 0\n",
    "    l = []\n",
    "    for word in most_occur:\n",
    "        if(word[0] not in words_in_query.split()):\n",
    "            i = i+1\n",
    "            l.append(word[0])\n",
    "        if i==k:\n",
    "            break\n",
    "    return l"
   ]
  },
  {
   "cell_type": "code",
   "execution_count": 219,
   "metadata": {},
   "outputs": [],
   "source": [
    "most_common = {}\n",
    "for key,value in top_docs.items():\n",
    "    tokens = []\n",
    "    for doc in value:\n",
    "        tokens = tokens + (get_Tokens(doc))\n",
    "    tokens = removeStopWords(tokens)\n",
    "    counter = Counter(tokens)\n",
    "    most_occur = counter.most_common(50)\n",
    "    words_in_query = queries[key]\n",
    "    most_common[key] = top_words(most_occur,words_in_query,5)    "
   ]
  },
  {
   "cell_type": "code",
   "execution_count": 220,
   "metadata": {},
   "outputs": [
    {
     "data": {
      "text/plain": [
       "{1: ['time-sharing', 'cacm', 'jb', 'computer', 'program'],\n",
       " 2: ['system', 'set', 'cacm', 'page', 'jb'],\n",
       " 3: ['system', 'systems', 'computer', 'cacm', 'method'],\n",
       " 4: ['control', 'system', 'information', 'cacm', 'protection'],\n",
       " 5: ['system', 'language', 'interactive', 'on-line', 'graphic'],\n",
       " 6: ['computer', 'equations', 'cacm', 'jb', 'coordinate'],\n",
       " 7: ['cacm', 'synchronization', 'parallel', 'process', '4.32'],\n",
       " 8: ['computer', 'cacm', 'system', 'simulation', 'information'],\n",
       " 9: ['information', 'system', 'cacm', 'computer', 'data'],\n",
       " 10: ['io', 'algorithm', 'cacm', 'language', 'pm'],\n",
       " 11: ['programming', 'data', 'systems', 'language', 'programs'],\n",
       " 12: ['system', 'random', 'cacm', 'security', 'language'],\n",
       " 13: ['expressions', 'program', 'cacm', '4.12', 'compiler'],\n",
       " 14: ['cacm', 'jb', 'algorithm', 'march', 'pm'],\n",
       " 15: ['flow', 'analysis', 'algorithm', 'data', 'program'],\n",
       " 16: ['system', 'set', 'process', 'cacm', 'multiprogramming'],\n",
       " 17: ['cacm', 'compiler', 'jb', 'expressions', 'program'],\n",
       " 18: ['time', 'execution', 'solution', 'algorithm', 'cacm'],\n",
       " 19: ['time', 'algorithm', 'cacm', 'processing', 'jb'],\n",
       " 20: ['algorithm', 'matrix', 'cacm', 'jb', 'information'],\n",
       " 21: ['problem', 'cacm', 'algorithm', 'jb', '5.25'],\n",
       " 22: ['display', 'raster', 'graphical', 'clipping', 'interactive'],\n",
       " 23: ['information', 'computer', 'networks', 'cacm', 'system'],\n",
       " 24: ['system', 'cacm', 'jb', 'systems', 'data'],\n",
       " 25: ['system', 'design', 'cacm', 'models', 'problem'],\n",
       " 26: ['system', 'data', 'storage', 'access', 'computer'],\n",
       " 27: ['paging', 'system', 'algorithms', 'model', 'program'],\n",
       " 28: ['computer', 'computing', 'distributed', 'switching', 'simulation'],\n",
       " 29: ['algorithm', 'generator', 'cacm', 'jb', 'pm'],\n",
       " 30: ['system', 'editing', 'cacm', 'jb', 'march'],\n",
       " 31: ['picture', 'system', 'cacm', 'jb', 'programming'],\n",
       " 32: ['problem', 'algorithm', 'graphs', 'problems', 'cacm'],\n",
       " 33: ['matrix', 'algorithm', 'method', 'order', 'cacm'],\n",
       " 34: ['cacm', 'jb', 'simulation', 'methods', 'paper'],\n",
       " 35: ['system', 'storage', 'cacm', 'computer', 'jb'],\n",
       " 36: ['analysis', 'grammars', 'grammar', 'natural', 'syntactic'],\n",
       " 37: ['abstract', 'programming', 'checking', 'problems', 'cacm'],\n",
       " 38: ['programming', 'languages', 'program', 'cacm', 'structure'],\n",
       " 39: ['language', 'programming', 'array', 'cacm', 'program'],\n",
       " 40: ['programming', 'language', 'program', 'array', 'control'],\n",
       " 41: ['system', 'computer', 'programming', 'design', 'cacm'],\n",
       " 42: ['system', 'simulation', 'model', 'measurement', 'cacm'],\n",
       " 43: ['method', 'methods', 'gamma', 'random', 'cacm'],\n",
       " 44: ['method', 'surface', 'cacm', 'jb', 'technique'],\n",
       " 45: ['access', 'data', 'organization', 'storage', 'base'],\n",
       " 46: ['system', 'search', 'cacm', 'jb', 'query'],\n",
       " 47: ['systems', 'tree', 'cacm', 'jb', 'paper'],\n",
       " 48: ['cacm', 'jb', 'problem', '5.41', 'dual'],\n",
       " 49: ['system', 'data', 'model', 'cacm', 'query'],\n",
       " 50: ['processing', 'time', 'memory', 'system', 'execution'],\n",
       " 51: ['time', 'memory', 'processor', 'algorithm', 'execution'],\n",
       " 52: ['model', 'event', 'system', 'computer', 'digital'],\n",
       " 53: ['series', 'algorithm', 'cacm', 'jb', 'program'],\n",
       " 54: ['cacm', 'program', 'formal', 'proof', '5.24'],\n",
       " 55: ['wave', 'functions', 'string', 'cacm', 'jb'],\n",
       " 56: ['string', 'cacm', 'jb', 'system', 'machine'],\n",
       " 57: ['program', 'languages', 'language', 'output', 'symbolic'],\n",
       " 58: ['analysis', 'cacm', 'jb', 'number', 'pm'],\n",
       " 59: ['analysis', 'search', 'cacm', 'system', 'jb'],\n",
       " 60: ['data', 'language', 'design', 'query', 'information'],\n",
       " 61: ['automatic', 'cacm', 'jb', 'processing', 'indexing'],\n",
       " 62: ['algorithm', 'graph', 'processing', 'io', 'cacm'],\n",
       " 63: ['time', 'io', 'processing', 'cacm', 'algorithm'],\n",
       " 64: ['data', 'system', 'programming', 'program', 'cacm']}"
      ]
     },
     "execution_count": 220,
     "metadata": {},
     "output_type": "execute_result"
    }
   ],
   "source": [
    "most_common"
   ]
  },
  {
   "cell_type": "code",
   "execution_count": 222,
   "metadata": {},
   "outputs": [],
   "source": [
    "queries_expanded = {}\n",
    "for key, value in queries.items():\n",
    "    l = value.split()\n",
    "    l = l + most_common[key]\n",
    "    queries_expanded[key] = ' '.join(l)"
   ]
  },
  {
   "cell_type": "code",
   "execution_count": 223,
   "metadata": {},
   "outputs": [
    {
     "data": {
      "text/plain": [
       "{1: 'what articles exist which deal with tss time sharing system an operating system for ibm computers time-sharing cacm jb computer program',\n",
       " 2: 'i am interested in articles written either by prieve or udo pooch prieve b pooch u system set cacm page jb',\n",
       " 3: 'intermediate languages used in construction of multitargeted compilers tcoll system systems computer cacm method',\n",
       " 4: 'im interested in mechanisms for communicating between disjoint processes possibly but not exclusively in a distributed environment i would rather see descriptions of complete mechanisms with or without implementations as opposed to theoretical work on the abstract problem remote procedure calls and messagepassing are examples of my interests control system information cacm protection',\n",
       " 5: 'id like papers on design and implementation of editing interfaces windowmanagers command interpreters etc the essential issues are human interface design with views on improvements to user efficiency effectiveness and satisfaction system language interactive on-line graphic',\n",
       " 6: 'interested in articles on robotics motion planning particularly the geometric and combinatorial aspects we are not interested in the dynamics of arm motion computer equations cacm jb coordinate',\n",
       " 7: 'i am interested in distributed algorithms concurrent programs in which processes communicate and synchronize by using message passing areas of particular interest include faulttolerance and techniques for understanding the correctness of these algorithms cacm synchronization parallel process 4.32',\n",
       " 8: 'addressing schemes for resources in networks resource addressing in network operating systems computer cacm system simulation information',\n",
       " 9: 'security considerations in local networks network operating systems and distributed systems information system cacm computer data',\n",
       " 10: 'parallel languages languages for parallel computation io algorithm cacm language pm',\n",
       " 11: 'setl very high level languages programming data systems language programs',\n",
       " 12: 'portable operating systems system random cacm security language',\n",
       " 13: 'code optimization for space efficiency expressions program cacm 4.12 compiler',\n",
       " 14: 'find all discussions of optimal implementations of sort algorithms for database management applications cacm jb algorithm march pm',\n",
       " 15: 'find all discussions of horizontal microcode optimization with special emphasis on optimization of loops and global optimization flow analysis algorithm data program',\n",
       " 16: 'find all descriptions of file handling in operating systems based on multiple processes and message passing system set process cacm multiprogramming',\n",
       " 17: 'optimization of intermediate and machine code cacm compiler jb expressions program',\n",
       " 18: 'languages and compilers for parallel processors especially highly horizontal microcoded machines code compaction time execution solution algorithm cacm',\n",
       " 19: 'parallel algorithms time algorithm cacm processing jb',\n",
       " 20: 'graph theoretic algorithms applicable to sparse matrices algorithm matrix cacm jb information',\n",
       " 21: 'computational complexity intractability classcomplete reductions algorithms and efficiency problem cacm algorithm jb 5.25',\n",
       " 22: 'i am interested in hiddenline and hiddensurface algorithms for cylinders toroids spheres and cones this is a rather specialized topic in computer graphics display raster graphical clipping interactive',\n",
       " 23: 'distributed computing structures and algorithms information computer networks cacm system',\n",
       " 24: 'applied stochastic processes system cacm jb systems data',\n",
       " 25: 'performance evaluation and modelling of computer systems system design cacm models problem',\n",
       " 26: 'concurrency control mechanisms in operating systems system data storage access computer',\n",
       " 27: 'memory management aspects of operating systems paging system algorithms model program',\n",
       " 28: 'any information on packet radio networks of particular interest are algorithms for packet routing and for dealing with changes in network topography i am not interested in the hardware used in the network computer computing distributed switching simulation',\n",
       " 29: 'numbertheoretic algorithms especially involving prime number series sieves and chinese remainder theorem algorithm generator cacm jb pm',\n",
       " 30: 'articles on text formatting systems including what you see is what you get systems examples tnroff scribe bravo system editing cacm jb march',\n",
       " 31: 'id like to find articles describing the use of singular value decomposition in digital image processing applications include finding approximations to the original image and restoring images that are subject to noise an article on the subject is h andrews and c patterson outer product expansions and their uses in digital image processing american mathematical andrews h patterson c picture system cacm jb programming',\n",
       " 32: 'id like to find articles describing graph algorithms that are based on the eigenvalue decomposition or singular value decomposition of the ajacency matrix for the graph im especially interested in any heuristic algorithms for graph coloring and graph isomorphism using this method problem algorithm graphs problems cacm',\n",
       " 33: 'articles about the sensitivity of the eigenvalue decomposition of real matrices in particular zeroone matrices im especially interested in the separation of eigenspaces corresponding to distinct eigenvalues articles on the subject c davis and w kahn the rotation of eigenvectors by a permutation siam j numerical analysis vol 7 no 1 1970 g stewart error bounds for approximate invariant subspaces of closed linear operators siam j numerical analysis vol 8 no 4 1971 davis c kahn w stewart g matrix algorithm method order cacm',\n",
       " 34: 'currently interested in isolation of root of polynomial there is an old more recent material heindel l cacm jb simulation methods paper',\n",
       " 35: 'probabilistic algorithms especially those dealing with algebraic and symbolic manipulation some examples rabiin probabilistic algorithm on finite field siam waztch probabilistic testing of polynomial identities siam rabinm system storage cacm computer jb',\n",
       " 36: 'fast algorithm for contextfree language recognition or parsing analysis grammars grammar natural syntactic',\n",
       " 37: 'articles describing the relationship between data types and concurrency eg what is the type of a process when is a synchronization attempt between two processes type correct in a messagepassing system is there any notion of the types of messagesie any way to check that the sender of the message and the receiver are both treating the bit stream as some particular type abstract programming checking problems cacm',\n",
       " 38: 'what is the type of a module i dont want the entire literature on abstract data types here but im not sure how to phrase this to avoid it im interested in questions about how one can check that a module matches contexts in which it is used programming languages program cacm structure',\n",
       " 39: 'what does type compatibility mean in languages that allow programmer defined types you might want to restrict this to extensible languages that allow definition of abstract data types or programmersupplied definitions of operators like language programming array cacm program',\n",
       " 40: 'list all articles dealing with data types in the following languages that are referenced frequently in papers on the above languages eg catch any languages with interesting type structures that i might have missed programming language program array control',\n",
       " 41: 'theory of distributed systems and databases subtopics of special interest include reliability and faulttolerance in distributed systems atomicity distributed transactions synchronization algorithms resource allocation lower bounds and models for asynchronous parallel systems also theory of communicating processes and protocols p box 2158 yale station new haven conn 06520 system computer programming design cacm',\n",
       " 42: 'computer performance evaluation techniques using pattern recognition and clustering la 70803 system simulation model measurement cacm',\n",
       " 43: 'analysis and perception of shape by humans and computers shape descriptions shape recognition by computer twodimensional shapes measures of circularity shape matching method methods gamma random cacm',\n",
       " 44: 'texture analysis by computer digitized texture analysis texture synthesis perception of texture method surface cacm jb technique',\n",
       " 45: 'the use of operations research models to optimize information system performance this includes fine tuning decisions such as secondary index selection file reorganization and distributed databases access data organization storage base',\n",
       " 46: 'the application of fuzzy subset theory to clustering and information retrieval problems this includes performance evaluation and automatic indexing considerations system search cacm jb query',\n",
       " 47: 'the use of bayesian decision models to optimize information retrieval system performance this includes stopping rules to determine when a user should cease scanning the output of a retrieval search systems tree cacm jb paper',\n",
       " 48: 'the use of computer science principles eg data structures numerical methods in generating optimization eg linear programming algorithms this includes issues of the khachian russian ellipsoidal algorithm and complexity of such algorithms cacm jb problem 5.41 dual',\n",
       " 49: 'the role of information retrieval in knowledge based systems ie expert systems system data model cacm query',\n",
       " 50: 'parallel processors in information retrieval processing time memory system execution',\n",
       " 51: 'parallel processors and paging algorithms time memory processor algorithm execution',\n",
       " 52: 'modelling and simulation in agricultural ecosystems model event system computer digital',\n",
       " 53: 'mathematical induction group theory integers modulo m probability binomial coefficients binomial theorem homomorphism morphism transitivity relations relation matrix syracuse university 313 link hall syracuse n 13210 series algorithm cacm jb program',\n",
       " 54: 'semantics of programming languages including abstract specifications of data types denotational semantics and proofs of correctness hoare a dijkstra e university of massachusetts amherst ma 01003 cacm program formal proof 5.24',\n",
       " 55: 'anything dealing with star height of regular languages or regular expressions or regular events wave functions string cacm jb',\n",
       " 56: 'articles relation the algebraic theory of semigroups and monoids to the study of automata and regular languages string cacm jb system machine',\n",
       " 57: 'abstracts of articles j backus can programming be liberated from the von neumann style a functional style and its algebra of programs cacm 21 re millo r lipton a perlis letter to acm forum cacm 22 1979 629630 backus j de millo r lipton r perlis a program languages language output symbolic',\n",
       " 58: 'algorithms or statistical packages for anova regression using least squares or generalized linear models system design capabilities statistical formula are of interest students t test wilcoxon and sign tests multivariate and univariate components can be included analysis cacm jb number pm',\n",
       " 59: 'dictionary construction and accessing methods for fast retrieval of words or lexical items or morphologically related information hashing or indexing methods are usually applied to english spelling or natural language problems analysis search cacm system jb',\n",
       " 60: 'hardware and software relating to database management systems database packages back end computers special associative hardware with microcomputers attached to disk heads or things like rap relational or network codasyl or hierarchical models systems like system r ims adabas total etc data language design query information',\n",
       " 61: 'information retrieval articles by gerard salton or others about clustering bibliographic coupling use of citations or cocitations the vector space model boolean search methods using inverted files feedback etc salton g automatic cacm jb processing indexing',\n",
       " 62: 'results relating parallel complexity theory both for prams and uniform circuits algorithm graph processing io cacm',\n",
       " 63: 'algorithms for parallel computation and especially comparisons between parallel and sequential algorithms time io processing cacm algorithm',\n",
       " 64: 'list all articles on el1 and ecl el1 may be given as el1 i dont remember how they did it data system programming program cacm'}"
      ]
     },
     "execution_count": 223,
     "metadata": {},
     "output_type": "execute_result"
    }
   ],
   "source": [
    "queries_expanded"
   ]
  },
  {
   "cell_type": "code",
   "execution_count": 225,
   "metadata": {},
   "outputs": [],
   "source": [
    "for key,value in queries.items():\n",
    "    df = getRanking(key,value,50)\n",
    "    df.to_csv(\"Query_expansion_results/query_\"+str(key)+\"_rankings_.csv\",index=False)"
   ]
  }
 ],
 "metadata": {
  "kernelspec": {
   "display_name": "Python 3",
   "language": "python",
   "name": "python3"
  },
  "language_info": {
   "codemirror_mode": {
    "name": "ipython",
    "version": 3
   },
   "file_extension": ".py",
   "mimetype": "text/x-python",
   "name": "python",
   "nbconvert_exporter": "python",
   "pygments_lexer": "ipython3",
   "version": "3.6.7"
  }
 },
 "nbformat": 4,
 "nbformat_minor": 2
}
